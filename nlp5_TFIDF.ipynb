{
 "cells": [
  {
   "cell_type": "code",
   "execution_count": 16,
   "id": "9d675b7d",
   "metadata": {},
   "outputs": [],
   "source": [
    "\n",
    "import nltk"
   ]
  },
  {
   "cell_type": "code",
   "execution_count": 17,
   "id": "48eb11b0",
   "metadata": {},
   "outputs": [],
   "source": [
    "paragraph =  \"\"\"Construction of the mausoleum was essentially completed in 1643, but work continued on other phases of the project for another 10 years. The Taj Mahal complex is believed to have been completed in its entirety in 1653 at a cost estimated at the time to be around ₹32 million, which in 2020 would be approximately ₹70 billion (about U.S. $1 billion). The construction project employed some 20,000 artisans under the guidance of a board of architects led by the court architect to the emperor, Ustad Ahmad Lahauri.\n",
    "\n",
    "The Taj Mahal was designated as a UNESCO World Heritage Site in 1983 for being \"the jewel of Muslim art in India and one of the universally admired masterpieces of the world's heritage\". It is regarded by many as the best example of Mughal architecture and a symbol of India's rich history. The Taj Mahal attracts more than 6 million visitors a year[3] and in 2007, it was declared a winner of the New 7 Wonders of the World (2000–2007) initiative. \"\"\""
   ]
  },
  {
   "cell_type": "code",
   "execution_count": 18,
   "id": "6c1fa2b4",
   "metadata": {},
   "outputs": [],
   "source": [
    "# Cleaning the texts\n",
    "import re\n",
    "from nltk.corpus import stopwords\n",
    "from nltk.stem.porter import PorterStemmer\n",
    "from nltk.stem import WordNetLemmatizer"
   ]
  },
  {
   "cell_type": "code",
   "execution_count": 19,
   "id": "984d43c3",
   "metadata": {},
   "outputs": [],
   "source": [
    "ps = PorterStemmer()\n",
    "wordnet=WordNetLemmatizer()\n",
    "sentences = nltk.sent_tokenize(paragraph)\n",
    "corpus = []"
   ]
  },
  {
   "cell_type": "code",
   "execution_count": 20,
   "id": "2808da30",
   "metadata": {},
   "outputs": [],
   "source": [
    "for i in range(len(sentences)):\n",
    "    review = re.sub('[^a-zA-Z]', ' ', sentences[i])#substitute everything in sentences that is not a-z or A-Z with space\n",
    "    review = review.lower()#lower the sentences to a-z\n",
    "    review = review.split()#split the sentence into words\n",
    "    review = [wordnet.lemmatize(word) for word in review if not word in set(stopwords.words('english'))]#Lemmatize the words which are not stop words\n",
    "    review = ' '.join(review)#join the words with space\n",
    "    corpus.append(review)#append review to cospus"
   ]
  },
  {
   "cell_type": "code",
   "execution_count": 21,
   "id": "a45a75ac",
   "metadata": {},
   "outputs": [
    {
     "name": "stdout",
     "output_type": "stream",
     "text": [
      "['construction mausoleum essentially completed work continued phase project another year', 'taj mahal complex believed completed entirety cost estimated time around million would approximately billion u billion', 'construction project employed artisan guidance board architect led court architect emperor ustad ahmad lahauri', 'taj mahal designated unesco world heritage site jewel muslim art india one universally admired masterpiece world heritage', 'regarded many best example mughal architecture symbol india rich history', 'taj mahal attracts million visitor year declared winner new wonder world initiative']\n"
     ]
    }
   ],
   "source": [
    "print(corpus)"
   ]
  },
  {
   "cell_type": "code",
   "execution_count": 29,
   "id": "2ffe9fe2",
   "metadata": {},
   "outputs": [],
   "source": [
    "# Creating the Bag of Words model\n",
    "from sklearn.feature_extraction.text import  TfidfVectorizer\n",
    "cv = TfidfVectorizer()#create an object of TfidfVectorizer\n",
    "X = cv.fit_transform(corpus).toarray()#creates document matrix with dimensions of number of sentences x number of total words.\n",
    "#words occusing frequently get less importance. X can then be fed to machine learning model for example for sentiment analysis."
   ]
  },
  {
   "cell_type": "code",
   "execution_count": 30,
   "id": "9b4bf8cf",
   "metadata": {},
   "outputs": [
    {
     "name": "stdout",
     "output_type": "stream",
     "text": [
      "[[0.         0.         0.33923274 0.         0.         0.\n",
      "  0.         0.         0.         0.         0.         0.\n",
      "  0.         0.         0.2781757  0.         0.2781757  0.33923274\n",
      "  0.         0.         0.         0.         0.         0.\n",
      "  0.         0.33923274 0.         0.         0.         0.\n",
      "  0.         0.         0.         0.         0.         0.\n",
      "  0.         0.         0.         0.33923274 0.         0.\n",
      "  0.         0.         0.         0.33923274 0.2781757  0.\n",
      "  0.         0.         0.         0.         0.         0.\n",
      "  0.         0.         0.         0.         0.         0.33923274\n",
      "  0.         0.         0.2781757 ]\n",
      " [0.         0.         0.         0.25562626 0.         0.\n",
      "  0.25562626 0.         0.         0.         0.25562626 0.\n",
      "  0.51125252 0.         0.20961719 0.25562626 0.         0.\n",
      "  0.25562626 0.         0.         0.         0.         0.\n",
      "  0.25562626 0.         0.25562626 0.         0.         0.\n",
      "  0.         0.         0.         0.         0.         0.\n",
      "  0.17697324 0.         0.         0.         0.20961719 0.\n",
      "  0.         0.         0.         0.         0.         0.\n",
      "  0.         0.         0.         0.17697324 0.25562626 0.\n",
      "  0.         0.         0.         0.         0.         0.\n",
      "  0.         0.25562626 0.        ]\n",
      " [0.         0.25528113 0.         0.         0.51056227 0.\n",
      "  0.         0.         0.25528113 0.         0.         0.\n",
      "  0.         0.25528113 0.         0.         0.20933418 0.\n",
      "  0.         0.25528113 0.         0.         0.25528113 0.25528113\n",
      "  0.         0.         0.         0.         0.25528113 0.\n",
      "  0.         0.         0.         0.         0.25528113 0.25528113\n",
      "  0.         0.         0.         0.         0.         0.\n",
      "  0.         0.         0.         0.         0.20933418 0.\n",
      "  0.         0.         0.         0.         0.         0.\n",
      "  0.         0.25528113 0.         0.         0.         0.\n",
      "  0.         0.         0.        ]\n",
      " [0.23363013 0.         0.         0.         0.         0.\n",
      "  0.         0.23363013 0.         0.         0.         0.\n",
      "  0.         0.         0.         0.         0.         0.\n",
      "  0.         0.         0.         0.23363013 0.         0.\n",
      "  0.         0.         0.         0.         0.         0.46726026\n",
      "  0.         0.19158005 0.         0.23363013 0.         0.\n",
      "  0.16174504 0.         0.23363013 0.         0.         0.\n",
      "  0.23363013 0.         0.23363013 0.         0.         0.\n",
      "  0.         0.23363013 0.         0.16174504 0.         0.23363013\n",
      "  0.23363013 0.         0.         0.         0.         0.\n",
      "  0.38316009 0.         0.        ]\n",
      " [0.         0.         0.         0.         0.         0.32153803\n",
      "  0.         0.         0.         0.         0.         0.32153803\n",
      "  0.         0.         0.         0.         0.         0.\n",
      "  0.         0.         0.         0.         0.         0.\n",
      "  0.         0.         0.         0.32153803 0.         0.\n",
      "  0.32153803 0.26366579 0.         0.         0.         0.\n",
      "  0.         0.32153803 0.         0.         0.         0.32153803\n",
      "  0.         0.         0.         0.         0.         0.32153803\n",
      "  0.32153803 0.         0.32153803 0.         0.         0.\n",
      "  0.         0.         0.         0.         0.         0.\n",
      "  0.         0.         0.        ]\n",
      " [0.         0.         0.         0.         0.         0.\n",
      "  0.         0.         0.         0.31661009 0.         0.\n",
      "  0.         0.         0.         0.         0.         0.\n",
      "  0.         0.         0.31661009 0.         0.         0.\n",
      "  0.         0.         0.         0.         0.         0.\n",
      "  0.         0.         0.31661009 0.         0.         0.\n",
      "  0.2191931  0.         0.         0.         0.2596248  0.\n",
      "  0.         0.31661009 0.         0.         0.         0.\n",
      "  0.         0.         0.         0.2191931  0.         0.\n",
      "  0.         0.         0.31661009 0.31661009 0.31661009 0.\n",
      "  0.2596248  0.         0.2596248 ]]\n"
     ]
    }
   ],
   "source": [
    "print(X)"
   ]
  },
  {
   "cell_type": "code",
   "execution_count": null,
   "id": "7cd517b0",
   "metadata": {},
   "outputs": [],
   "source": []
  },
  {
   "cell_type": "code",
   "execution_count": null,
   "id": "4e191301",
   "metadata": {},
   "outputs": [],
   "source": []
  }
 ],
 "metadata": {
  "kernelspec": {
   "display_name": "Python 3 (ipykernel)",
   "language": "python",
   "name": "python3"
  },
  "language_info": {
   "codemirror_mode": {
    "name": "ipython",
    "version": 3
   },
   "file_extension": ".py",
   "mimetype": "text/x-python",
   "name": "python",
   "nbconvert_exporter": "python",
   "pygments_lexer": "ipython3",
   "version": "3.9.7"
  }
 },
 "nbformat": 4,
 "nbformat_minor": 5
}
