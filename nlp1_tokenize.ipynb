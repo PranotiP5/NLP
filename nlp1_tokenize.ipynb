{
 "cells": [
  {
   "cell_type": "markdown",
   "id": "810f77f6",
   "metadata": {},
   "source": [
    "$$x=3$$\n"
   ]
  },
  {
   "cell_type": "code",
   "execution_count": 8,
   "id": "92eeec18",
   "metadata": {},
   "outputs": [],
   "source": [
    "import nltk"
   ]
  },
  {
   "cell_type": "code",
   "execution_count": 9,
   "id": "5afc6fb9",
   "metadata": {},
   "outputs": [
    {
     "name": "stdout",
     "output_type": "stream",
     "text": [
      "showing info https://raw.githubusercontent.com/nltk/nltk_data/gh-pages/index.xml\n"
     ]
    },
    {
     "data": {
      "text/plain": [
       "True"
      ]
     },
     "execution_count": 9,
     "metadata": {},
     "output_type": "execute_result"
    }
   ],
   "source": [
    "nltk.download()"
   ]
  },
  {
   "cell_type": "code",
   "execution_count": 10,
   "id": "418fe994",
   "metadata": {},
   "outputs": [],
   "source": [
    "paragraph = \"\"\"I have three visions for India. In 3000 years of our history, people from all over \n",
    "               the world have come and invaded us, captured our lands, conquered our minds. \n",
    "               From Alexander onwards, the Greeks, the Turks, the Moguls, the Portuguese, the British,\n",
    "               the French, the Dutch, all of them came and looted us, took over what was ours. \n",
    "               Yet we have not done this to any other nation. We have not conquered anyone. \n",
    "               We have not grabbed their land, their culture, \n",
    "               their history and tried to enforce our way of life on them. \n",
    "               Why? Because we respect the freedom of others.That is why my \n",
    "               first vision is that of freedom. I believe that India got its first vision of \n",
    "               this in 1857, when we started the War of Independence. It is this freedom that\n",
    "               we must protect and nurture and build on. If we are not free, no one will respect us.\n",
    "               My second vision for India’s development. For fifty years we have been a developing nation.\n",
    "               It is time we see ourselves as a developed nation. We are among the top 5 nations of the world\n",
    "               in terms of GDP. We have a 10 percent growth rate in most areas. Our poverty levels are falling.\n",
    "               Our achievements are being globally recognised today. Yet we lack the self-confidence to\n",
    "               see ourselves as a developed nation, self-reliant and self-assured. Isn’t this incorrect?\n",
    "               I have a third vision. India must stand up to the world. Because I believe that unless India \n",
    "               stands up to the world, no one will respect us. Only strength respects strength. We must be \n",
    "               strong not only as a military power but also as an economic power. Both must go hand-in-hand. \n",
    "               My good fortune was to have worked with three great minds. Dr. Vikram Sarabhai of the Dept. of \n",
    "               space, Professor Satish Dhawan, who succeeded him and Dr. Brahm Prakash, father of nuclear material.\n",
    "               I was lucky to have worked with all three of them closely and consider this the great opportunity of my life. \n",
    "               I see four milestones in my career\"\"\""
   ]
  },
  {
   "cell_type": "code",
   "execution_count": 20,
   "id": "9525d001",
   "metadata": {},
   "outputs": [],
   "source": [
    "paragraph = \"\"\" Construction of the mausoleum was essentially completed in 1643, but work continued on other phases of the project for another 10 years. The Taj Mahal complex is believed to have been completed in its entirety in 1653 at a cost estimated at the time to be around ₹32 million, which in 2020 would be approximately ₹70 billion (about U.S. $1 billion). The construction project employed some 20,000 artisans under the guidance of a board of architects led by the court architect to the emperor, Ustad Ahmad Lahauri.\n",
    "\n",
    "The Taj Mahal was designated as a UNESCO World Heritage Site in 1983 for being \"the jewel of Muslim art in India and one of the universally admired masterpieces of the world's heritage\". It is regarded by many as the best example of Mughal architecture and a symbol of India's rich history. The Taj Mahal attracts more than 6 million visitors a year[3] and in 2007, it was declared a winner of the New 7 Wonders of the World (2000–2007) initiative.  \"\"\""
   ]
  },
  {
   "cell_type": "code",
   "execution_count": 21,
   "id": "fcafe022",
   "metadata": {},
   "outputs": [],
   "source": [
    "# Tokenizing sentences\n",
    "sentences = nltk.sent_tokenize(paragraph)"
   ]
  },
  {
   "cell_type": "code",
   "execution_count": 22,
   "id": "47e98772",
   "metadata": {},
   "outputs": [
    {
     "name": "stdout",
     "output_type": "stream",
     "text": [
      "[' Construction of the mausoleum was essentially completed in 1643, but work continued on other phases of the project for another 10 years.', 'The Taj Mahal complex is believed to have been completed in its entirety in 1653 at a cost estimated at the time to be around ₹32 million, which in 2020 would be approximately ₹70 billion (about U.S. $1 billion).', 'The construction project employed some 20,000 artisans under the guidance of a board of architects led by the court architect to the emperor, Ustad Ahmad Lahauri.', 'The Taj Mahal was designated as a UNESCO World Heritage Site in 1983 for being \"the jewel of Muslim art in India and one of the universally admired masterpieces of the world\\'s heritage\".', \"It is regarded by many as the best example of Mughal architecture and a symbol of India's rich history.\", 'The Taj Mahal attracts more than 6 million visitors a year[3] and in 2007, it was declared a winner of the New 7 Wonders of the World (2000–2007) initiative.']\n"
     ]
    }
   ],
   "source": [
    "print(sentences)"
   ]
  },
  {
   "cell_type": "code",
   "execution_count": 23,
   "id": "c832dc85",
   "metadata": {},
   "outputs": [
    {
     "name": "stdout",
     "output_type": "stream",
     "text": [
      "6\n"
     ]
    }
   ],
   "source": [
    "print(len(sentences))"
   ]
  },
  {
   "cell_type": "code",
   "execution_count": 24,
   "id": "e363d622",
   "metadata": {},
   "outputs": [],
   "source": [
    "# Tokenizing words\n",
    "words = nltk.word_tokenize(paragraph)"
   ]
  },
  {
   "cell_type": "code",
   "execution_count": 25,
   "id": "bd465b40",
   "metadata": {},
   "outputs": [
    {
     "name": "stdout",
     "output_type": "stream",
     "text": [
      "['Construction', 'of', 'the', 'mausoleum', 'was', 'essentially', 'completed', 'in', '1643', ',', 'but', 'work', 'continued', 'on', 'other', 'phases', 'of', 'the', 'project', 'for', 'another', '10', 'years', '.', 'The', 'Taj', 'Mahal', 'complex', 'is', 'believed', 'to', 'have', 'been', 'completed', 'in', 'its', 'entirety', 'in', '1653', 'at', 'a', 'cost', 'estimated', 'at', 'the', 'time', 'to', 'be', 'around', '₹32', 'million', ',', 'which', 'in', '2020', 'would', 'be', 'approximately', '₹70', 'billion', '(', 'about', 'U.S.', '$', '1', 'billion', ')', '.', 'The', 'construction', 'project', 'employed', 'some', '20,000', 'artisans', 'under', 'the', 'guidance', 'of', 'a', 'board', 'of', 'architects', 'led', 'by', 'the', 'court', 'architect', 'to', 'the', 'emperor', ',', 'Ustad', 'Ahmad', 'Lahauri', '.', 'The', 'Taj', 'Mahal', 'was', 'designated', 'as', 'a', 'UNESCO', 'World', 'Heritage', 'Site', 'in', '1983', 'for', 'being', '``', 'the', 'jewel', 'of', 'Muslim', 'art', 'in', 'India', 'and', 'one', 'of', 'the', 'universally', 'admired', 'masterpieces', 'of', 'the', 'world', \"'s\", 'heritage', \"''\", '.', 'It', 'is', 'regarded', 'by', 'many', 'as', 'the', 'best', 'example', 'of', 'Mughal', 'architecture', 'and', 'a', 'symbol', 'of', 'India', \"'s\", 'rich', 'history', '.', 'The', 'Taj', 'Mahal', 'attracts', 'more', 'than', '6', 'million', 'visitors', 'a', 'year', '[', '3', ']', 'and', 'in', '2007', ',', 'it', 'was', 'declared', 'a', 'winner', 'of', 'the', 'New', '7', 'Wonders', 'of', 'the', 'World', '(', '2000–2007', ')', 'initiative', '.']\n"
     ]
    }
   ],
   "source": [
    "print(words)"
   ]
  },
  {
   "cell_type": "code",
   "execution_count": 26,
   "id": "a0326dce",
   "metadata": {},
   "outputs": [
    {
     "name": "stdout",
     "output_type": "stream",
     "text": [
      "190\n"
     ]
    }
   ],
   "source": [
    "print(len(words))"
   ]
  },
  {
   "cell_type": "code",
   "execution_count": null,
   "id": "c856f686",
   "metadata": {},
   "outputs": [],
   "source": []
  }
 ],
 "metadata": {
  "kernelspec": {
   "display_name": "Python 3 (ipykernel)",
   "language": "python",
   "name": "python3"
  },
  "language_info": {
   "codemirror_mode": {
    "name": "ipython",
    "version": 3
   },
   "file_extension": ".py",
   "mimetype": "text/x-python",
   "name": "python",
   "nbconvert_exporter": "python",
   "pygments_lexer": "ipython3",
   "version": "3.9.7"
  }
 },
 "nbformat": 4,
 "nbformat_minor": 5
}
